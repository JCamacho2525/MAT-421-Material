{
  "nbformat": 4,
  "nbformat_minor": 0,
  "metadata": {
    "colab": {
      "provenance": [],
      "authorship_tag": "ABX9TyPVtD3MJr63raHOhdPnCgJu",
      "include_colab_link": true
    },
    "kernelspec": {
      "name": "python3",
      "display_name": "Python 3"
    },
    "language_info": {
      "name": "python"
    }
  },
  "cells": [
    {
      "cell_type": "markdown",
      "metadata": {
        "id": "view-in-github",
        "colab_type": "text"
      },
      "source": [
        "<a href=\"https://colab.research.google.com/github/MarvDaParndAndy/MAT-421-Material/blob/main/MAT_421_HW_module_D.ipynb\" target=\"_parent\"><img src=\"https://colab.research.google.com/assets/colab-badge.svg\" alt=\"Open In Colab\"/></a>"
      ]
    },
    {
      "cell_type": "markdown",
      "source": [
        "# HW Module D: 1.1-1.3\n",
        "Jacob Camacho\n",
        "\n",
        "\n",
        "*   1.1: Introduction\n",
        "*   1.2: Elements of Linear Algebra \n",
        "*   1.3: Linear Regression \n"
      ],
      "metadata": {
        "id": "9IkO3Lmcxj5k"
      }
    },
    {
      "cell_type": "markdown",
      "source": [
        "# 1.1:Introduction\n",
        "\n",
        "\n",
        "*  Linear algebra is a field of mathematics that is widely used in various disci-\n",
        "plines. Linear algebra plays an important role in data science and machine\n",
        "learning"
      ],
      "metadata": {
        "id": "7vmEYXAxzPRX"
      }
    },
    {
      "cell_type": "markdown",
      "source": [
        "\n",
        "# 1.2: Elements of Linear Algebra   \n",
        "\n",
        "*   Definition 1.2.1(Linear Subspace): A linear subspace of V is a subset U ⊆ V\n",
        "that is closed under vector addition and scalar multiplication. That is, for all\n",
        "u1,u2 ∈ U and α∈ R, it holds that: u1 +u2 ∈ U,and αu1 ∈ U.\n",
        "*   Definition 1.2.2(Span):Let w1,...,wm ∈ V . The span of {w1,...,wm}, denoted\n",
        "span(w1,...,wm), is the set of all linear combinations of the wj ’s. That is,\n",
        "span(w1,...,wm)=\n",
        "{ \n",
        "∑_j=1^m αj wj : α1,...,αm ∈ R}\n",
        "* Lemma 1.2.3: Ever Span is a Linear SubSpace. Let W =span(w1,...,wm).\n",
        "Then W is a linear subspace."
      ],
      "metadata": {
        "id": "rmoKBl94z6gU"
      }
    },
    {
      "cell_type": "code",
      "source": [
        "import numpy as np \n",
        "x = np.array([[5, 7, 3]])\n",
        "y = np.array([[2, 6, 7]])\n",
        "print(np.cross(x,y))"
      ],
      "metadata": {
        "colab": {
          "base_uri": "https://localhost:8080/"
        },
        "id": "Ed1LAkoJ7mzg",
        "outputId": "a4c192d9-8573-465e-ce83-6589a1b81d49"
      },
      "execution_count": 2,
      "outputs": [
        {
          "output_type": "stream",
          "name": "stdout",
          "text": [
            "[[ 31 -29  16]]\n"
          ]
        }
      ]
    },
    {
      "cell_type": "markdown",
      "source": [
        "*   Definition 1.2.4(Column Space): Let A ∈ Rn×m be an n×m matrix with columns\n",
        "a1,...,am ∈ Rn. The column space of A, denoted col(A), is the span of the\n",
        "columns of A, that is, col(A)=span(a1,...,am)∈ Rn.\n",
        "*   Definition 1.2.5(Linear Independence):A list of vectors u1,...,um is linearly\n",
        "independent if none of them can be written as a linear combination of the\n",
        "others, that is, ∀i,ui /∈ span({uj : j ̸=i}). A list of vectors is called linearly dependent if it is not linearly independent.\n",
        "*   Theorem 1.2.8(Dimension Theorem): Let U be a linear subspace of V . Any\n",
        "basis of U always has the same number of elements. All bases of U have the\n",
        "same length, that is, the same number of elements. We call this number the\n",
        "dimension of U and denote it dim(U ).\n",
        "\n",
        "* Lemma 1.2.9(Characterization of Linearly Dependent Sets): Let u1,...,um be\n",
        "a linearly dependent list of vectors with linearly independent subset, ui,i ∈\n",
        "{1,...,k},k <m. Then there is an i >k such that:\n",
        "\n",
        "1. ui ∈ span(u1,...,ui−1)\n",
        "2.   span({uj : j ∈ {1,...,m}})=span({uj : j ∈ {1,...,m},j ̸=i})\n",
        "* Orthonormality: A list of vectors {u1,...,um} is orthonormal if the u's are pairwise orthogonal and each has a norm of 1.\n",
        "*  Best Approximation Theorem: Let U⊆ V be a linear sub-\n",
        "space with orthonormal basis q1,...,qm and let v ∈ V . For any u ∈ U:    ∥v− PUv∥ ≤ ∥v− u∥.\n",
        "*   Lemma 1.2.17(Pythagorean Theorem): Let u,v ∈V be orthogonal. Then ∥u+\n",
        "v∥^2 =∥u∥^2 +∥v∥^2\n",
        "*   Cauchy-Schwarz: For any u,v ∈ V , |⟨u,v⟩| ≤ ∥u∥∥v∥\n",
        "* Gram-Schmidt: Let a1,...,am in Rn be linearly indepen-\n",
        "dent. Then there exist an orthonormal basis q1,...,qm of span(a1,...,am).\n",
        "* Eigenvalues and Eigenvectors: Let A ∈ R^d×d be a square\n",
        "matrix. Then λ∈ Ris an eigenvalue of A if there exists a nonzero vector x ̸=0\n",
        "such that: Ax =λx. The vector x is referred to as an eigenvector."
      ],
      "metadata": {
        "id": "ktPs0Uae8Nab"
      }
    },
    {
      "cell_type": "code",
      "source": [
        "import numpy as np\n",
        "from numpy.linalg import eig\n",
        "x = np.array([[5,6],[2,8]])\n",
        "w,v = eig(x)\n",
        "print('E-value:', w)\n",
        "print('E-vector', v)"
      ],
      "metadata": {
        "colab": {
          "base_uri": "https://localhost:8080/"
        },
        "id": "1zMeg19gBMqo",
        "outputId": "c4f6d156-12bf-4ca7-8730-e7faaccf94ed"
      },
      "execution_count": 3,
      "outputs": [
        {
          "output_type": "stream",
          "name": "stdout",
          "text": [
            "E-value: [ 2.72508278 10.27491722]\n",
            "E-vector [[-0.93504634 -0.75102896]\n",
            " [ 0.3545255  -0.66026926]]\n"
          ]
        }
      ]
    },
    {
      "cell_type": "markdown",
      "source": [
        "\n",
        "*   Diagonal and Similar Matrices: Let A be similar to a matrix D = diag(𝜆1,...,𝜆d) with distinct diagonal entries, that exists a non-singular matric A such that A = PDP^-1\n",
        "If A is symmetric, then any 2 eigen vectors from different eigenspaces are orthogonal. \n",
        "*   The Spectral Theorem of Symmetirc Matrices: A nxn symmetric matrix A has the following properties:\n",
        "\n",
        "\n",
        "1. A has n eigenvalues, counting multiplicities  \n",
        "2.   If 𝜆 is an eigenvalues of A with multiplicity k, then the eigenspace for x is k-dimensional.\n",
        "3. The eigenspaces are mutually orthogonal, in the sense that eigenvectrs corresponding to different vaues are orthogonal.\n",
        "4. A is orthogonally diagonalizable.\n",
        "\n",
        "\n"
      ],
      "metadata": {
        "id": "MzN333fyBqQp"
      }
    },
    {
      "cell_type": "markdown",
      "source": [
        "# 1.3: Linear Regression\n",
        "\n",
        "\n",
        "*   QR Decomposition: A useful procedure to solve the linear least square problem using Gram-Schmidt.\n",
        "\n"
      ],
      "metadata": {
        "id": "gBdY3BgzK_Yy"
      }
    },
    {
      "cell_type": "code",
      "source": [
        "import numpy as np\n",
        "from numpy.linalg import qr\n",
        "x = np.array([[2,5], [10,5]])\n",
        "\n",
        "Q,R = qr(x) \n",
        "print('Q:', Q)\n",
        "print('R:', R)\n",
        "\n",
        "z = np.dot(Q, R)\n",
        "print('QR', z)\n",
        "\n",
        "iterations = [1,25]\n",
        "for i in range(25): \n",
        "  Q,R = qr(x)\n",
        "  x = np.dot(R, Q)\n",
        "  if i+1 in iterations: \n",
        "    print(f'Iteration {i+1}:')\n",
        "    print(x)"
      ],
      "metadata": {
        "colab": {
          "base_uri": "https://localhost:8080/"
        },
        "id": "FO9vJ_KtMUFU",
        "outputId": "2b0600cb-6ef6-4311-bf0f-67c814ec87ff"
      },
      "execution_count": 4,
      "outputs": [
        {
          "output_type": "stream",
          "name": "stdout",
          "text": [
            "Q: [[-0.19611614 -0.98058068]\n",
            " [-0.98058068  0.19611614]]\n",
            "R: [[-10.19803903  -5.88348405]\n",
            " [  0.          -3.9223227 ]]\n",
            "QR [[ 2.  5.]\n",
            " [10.  5.]]\n",
            "Iteration 1:\n",
            "[[ 7.76923077  8.84615385]\n",
            " [ 3.84615385 -0.76923077]]\n",
            "Iteration 25:\n",
            "[[ 1.07284161e+01  5.00000000e+00]\n",
            " [ 5.26767774e-11 -3.72841615e+00]]\n"
          ]
        }
      ]
    },
    {
      "cell_type": "markdown",
      "source": [
        "\n",
        "\n",
        "*   Normal Equations - Let A ∊ R^(nxm) be an nxm matrix with linearly independent columns and let b ∊ R^n be a vector. The solution to the least-squares problem min||Ax-b|| satisfies A^T Ax = A^T b which are known as the normal equations.\n",
        "* Least Squares via QR - Let A ∊ R^(nxm) be an nxm matrix with linearly independent column, let b ∊ R^n be a vector and let A = QR be a QR decomposition of A where Q is a R^(nxm) matrix with Q^T Q = I(mxm) and T is an upper triangle.\n",
        "\n"
      ],
      "metadata": {
        "id": "s6WymabcRKct"
      }
    }
  ]
}