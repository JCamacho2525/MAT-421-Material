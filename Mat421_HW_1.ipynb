{
  "nbformat": 4,
  "nbformat_minor": 0,
  "metadata": {
    "colab": {
      "provenance": [],
      "authorship_tag": "ABX9TyMrKQ+ZJmw4xjEwgKGJK8Iv",
      "include_colab_link": true
    },
    "kernelspec": {
      "name": "python3",
      "display_name": "Python 3"
    },
    "language_info": {
      "name": "python"
    }
  },
  "cells": [
    {
      "cell_type": "markdown",
      "metadata": {
        "id": "view-in-github",
        "colab_type": "text"
      },
      "source": [
        "<a href=\"https://colab.research.google.com/github/MarvDaParndAndy/MAT-421-Material/blob/main/Mat421_HW_1.ipynb\" target=\"_parent\"><img src=\"https://colab.research.google.com/assets/colab-badge.svg\" alt=\"Open In Colab\"/></a>"
      ]
    },
    {
      "cell_type": "code",
      "execution_count": null,
      "metadata": {
        "id": "6wqEr6kmPWbS"
      },
      "outputs": [],
      "source": []
    },
    {
      "cell_type": "markdown",
      "source": [
        "# MAT 421 Homework set 1: Chapter 9\n",
        "Jacob Camacho\n",
        "- 9.1: Base-N and Binary\n",
        "- 9.2: Floating Point Numbers\n",
        "- 9.3: Round-Off *Error*"
      ],
      "metadata": {
        "id": "saxqh1yUPXI9"
      }
    },
    {
      "cell_type": "markdown",
      "source": [
        "# 9.1: Base-N and Binary\n",
        "- Base-N: The decimal system uses this and the base-n can be the thought of as the single-number in which each digit place in the larger number is being multiplied by with their digit place dictating the power of the base number being multiplied to that digit. For example: \n",
        "\n"
      ],
      "metadata": {
        "id": "KsW6AsG-P7xN"
      }
    },
    {
      "cell_type": "markdown",
      "source": [
        "415(base5) = 4(5^2)+1(5^1)+5(5^0) := 100+5+5=110(base10) \n"
      ],
      "metadata": {
        "id": "NfblFvEqRJjx"
      }
    },
    {
      "cell_type": "markdown",
      "source": [
        "110(base10) = 1(10^2)+1(10^1)+0(10^0)"
      ],
      "metadata": {
        "id": "c9OY7nRQR6cE"
      }
    },
    {
      "cell_type": "markdown",
      "source": [
        "- Binary: Binary uses the base2 representation of numbers expressed only by 1 and 0 who's multiplication and addition rules are much the same as normal numbers. Example: "
      ],
      "metadata": {
        "id": "0VyFMmdVR7wE"
      }
    },
    {
      "cell_type": "markdown",
      "source": [
        "110(base10)=415(base5) = 64+32+8+4+2\n",
        "=1(2^6)+1(2^5)+0(2^4)+1(2^3)+1(2^2)+1(2^1)+0(2^0) = 1101110(base2)\n",
        "\n",
        "\n",
        "\n"
      ],
      "metadata": {
        "id": "GAUDxh5HSnwA"
      }
    },
    {
      "cell_type": "markdown",
      "source": [
        "We can check our work in Python using the bin function to convert 110(base10) to binary which is in (base2):"
      ],
      "metadata": {
        "id": "PxPapwtWb0qO"
      }
    },
    {
      "cell_type": "code",
      "source": [
        "bin(110)"
      ],
      "metadata": {
        "colab": {
          "base_uri": "https://localhost:8080/",
          "height": 36
        },
        "id": "c01p9Iazb-eu",
        "outputId": "0d6c508f-6b11-4d79-b3ef-ec9a0ad958d9"
      },
      "execution_count": 1,
      "outputs": [
        {
          "output_type": "execute_result",
          "data": {
            "text/plain": [
              "'0b1101110'"
            ],
            "application/vnd.google.colaboratory.intrinsic+json": {
              "type": "string"
            }
          },
          "metadata": {},
          "execution_count": 1
        }
      ]
    },
    {
      "cell_type": "markdown",
      "source": [
        "Now we will add to this by 37(base10)=100101(base2) to show that addition works similar to normal numbers but whenever you add together two ones you place a zero in the resulting digit place and carry the one over into the next. "
      ],
      "metadata": {
        "id": "9Poy7PSIVPZO"
      }
    },
    {
      "cell_type": "markdown",
      "source": [
        "1101110"
      ],
      "metadata": {
        "id": "-cmIPI9_WoVW"
      }
    },
    {
      "cell_type": "markdown",
      "source": [
        "0100101\n",
        "\n",
        "\n",
        "---\n",
        "\n"
      ],
      "metadata": {
        "id": "JLF6RFWJWvcC"
      }
    },
    {
      "cell_type": "markdown",
      "source": [
        "10010011(base2) "
      ],
      "metadata": {
        "id": "kjzq_uFDW1nR"
      }
    },
    {
      "cell_type": "markdown",
      "source": [
        "10010011(base2)=1(2^0)+1(2^1)+1(2^4)+1(2^7)=1+2+16+128=147=37(base10)+110(base10)\n"
      ],
      "metadata": {
        "id": "8VF8m0RfXGph"
      }
    },
    {
      "cell_type": "markdown",
      "source": [
        "To check using python we intialize the binary values as variables and use arithemetic expression:"
      ],
      "metadata": {
        "id": "e0Kn4x7TccG6"
      }
    },
    {
      "cell_type": "code",
      "source": [
        "bin(110)\n",
        "bin(37)\n",
        "x=0b1101110\n",
        "y=0b100101\n",
        "z=x+y\n",
        "print(f\"{z:b}\")"
      ],
      "metadata": {
        "colab": {
          "base_uri": "https://localhost:8080/"
        },
        "id": "6TFMVpUBcmY_",
        "outputId": "6af8cb17-bb40-48b2-ac68-01188d0f5512"
      },
      "execution_count": 2,
      "outputs": [
        {
          "output_type": "stream",
          "name": "stdout",
          "text": [
            "10010011\n"
          ]
        }
      ]
    },
    {
      "cell_type": "markdown",
      "source": [
        "now we will multiply 110(base10) by 17(base10) in base2"
      ],
      "metadata": {
        "id": "rB05UIPwXiic"
      }
    },
    {
      "cell_type": "markdown",
      "source": [
        "17(base10)=10001(base2)"
      ],
      "metadata": {
        "id": "HLPISYp9XxX0"
      }
    },
    {
      "cell_type": "markdown",
      "source": [
        "1101110\n",
        "\n"
      ],
      "metadata": {
        "id": "zz_y5F6MX2Mb"
      }
    },
    {
      "cell_type": "markdown",
      "source": [
        "0010001 \n",
        "\n",
        "---\n",
        "\n"
      ],
      "metadata": {
        "id": "iQ89U5NhX8Lm"
      }
    },
    {
      "cell_type": "markdown",
      "source": [
        "1101110"
      ],
      "metadata": {
        "id": "v4jBTDXlX_Ea"
      }
    },
    {
      "cell_type": "markdown",
      "source": [
        "11011100000\n",
        "\n",
        "---\n",
        "\n",
        "11101001110(base2)\n",
        "\n",
        "```\n",
        "\n"
      ],
      "metadata": {
        "id": "hF1n4TLzYI9y"
      }
    },
    {
      "cell_type": "markdown",
      "source": [
        "To check using Python is just like before with addition:"
      ],
      "metadata": {
        "id": "4xvxXOV6dJXu"
      }
    },
    {
      "cell_type": "code",
      "source": [
        "bin(110)\n",
        "bin(17)\n",
        "x=0b1101110\n",
        "y=0b10001\n",
        "z=x*y\n",
        "print(f\"{z:b}\")"
      ],
      "metadata": {
        "colab": {
          "base_uri": "https://localhost:8080/"
        },
        "id": "fBfJUKoLdPoz",
        "outputId": "381f5f26-d541-4088-efea-e2b3877a8dac"
      },
      "execution_count": 3,
      "outputs": [
        {
          "output_type": "stream",
          "name": "stdout",
          "text": [
            "11101001110\n"
          ]
        }
      ]
    },
    {
      "cell_type": "markdown",
      "source": [
        "# 9.2: Floating Point Numbers:"
      ],
      "metadata": {
        "id": "PokT66iYYyhb"
      }
    },
    {
      "cell_type": "markdown",
      "source": [
        "Python uses floating point numbers to give more precision and range than just binary and is made up 3 parts that are still like binary represented with only 1 and 0 that make use of 64-bits of space to store the number relying on three parts of the float that are broken up as such: \n",
        "\n",
        "1.   sign s: 1-bit and either 1(negative number) or 0(positive number)\n",
        "2.   Exponent e: 11-bits and is the power of 2 \n",
        "3.   Fraction f: 52-bits and coefficeint of exponent\n",
        "\n"
      ],
      "metadata": {
        "id": "b2iLdtAMZkk5"
      }
    },
    {
      "cell_type": "markdown",
      "source": [
        "this way of writing numbers is given the short hand (IEEE754) and the mathematical expression of how to find the normal expression of the floating number we use is the folloring equation: "
      ],
      "metadata": {
        "id": "NVlydwPZasYm"
      }
    },
    {
      "cell_type": "markdown",
      "source": [
        "n=((-1)^s)(2^(e-1023))(1+f)"
      ],
      "metadata": {
        "id": "3GNnNzxLbNkS"
      }
    },
    {
      "cell_type": "markdown",
      "source": [
        "We can look at the break down of the data of a floating point by the following command in Python"
      ],
      "metadata": {
        "id": "nhYf_Np7dtA6"
      }
    },
    {
      "cell_type": "code",
      "source": [
        "import sys\n",
        "sys.float_info"
      ],
      "metadata": {
        "id": "pqtPFyWcd3gp"
      },
      "execution_count": null,
      "outputs": []
    },
    {
      "cell_type": "markdown",
      "source": [
        "When dealing with floating point numbers that are approximation of the true value and as such we have what is called gaps in information about the numbers that represents the difference between the approximation and the true value. "
      ],
      "metadata": {
        "id": "hnGkUGNfePx_"
      }
    },
    {
      "cell_type": "markdown",
      "source": [
        "In python finding gaps between the real numbers and approximated floats using the funtion spacing in the package numpy"
      ],
      "metadata": {
        "id": "5LAPRALwe8qI"
      }
    },
    {
      "cell_type": "code",
      "source": [
        "import numpy as np\n",
        "np.spacing(1e5)"
      ],
      "metadata": {
        "colab": {
          "base_uri": "https://localhost:8080/"
        },
        "id": "5kON-yJUfU8z",
        "outputId": "27d6f0cb-1edc-40a8-e267-ab641d04e150"
      },
      "execution_count": 4,
      "outputs": [
        {
          "output_type": "execute_result",
          "data": {
            "text/plain": [
              "1.4551915228366852e-11"
            ]
          },
          "metadata": {},
          "execution_count": 4
        }
      ]
    },
    {
      "cell_type": "code",
      "source": [
        "1e5==1e5+np.spacing(1e5)/3 #checks the gap is small enough to pass as true"
      ],
      "metadata": {
        "colab": {
          "base_uri": "https://localhost:8080/"
        },
        "id": "DpyMyp2JfgS4",
        "outputId": "a0ee493d-be81-4c7c-da06-39974b4f7a27"
      },
      "execution_count": 6,
      "outputs": [
        {
          "output_type": "execute_result",
          "data": {
            "text/plain": [
              "True"
            ]
          },
          "metadata": {},
          "execution_count": 6
        }
      ]
    },
    {
      "cell_type": "markdown",
      "source": [
        "Some numbers are too large to be properly approximated with any degree of accuracy and results in an overflow in python in which it assigns the expression as infintiy "
      ],
      "metadata": {
        "id": "zL90yhoWf7mH"
      }
    },
    {
      "cell_type": "code",
      "source": [
        "1.24e2525"
      ],
      "metadata": {
        "colab": {
          "base_uri": "https://localhost:8080/"
        },
        "id": "f3lomnS5gPz-",
        "outputId": "3eb21756-fc43-4b85-ac16-960ffc669893"
      },
      "execution_count": 7,
      "outputs": [
        {
          "output_type": "execute_result",
          "data": {
            "text/plain": [
              "inf"
            ]
          },
          "metadata": {},
          "execution_count": 7
        }
      ]
    },
    {
      "cell_type": "markdown",
      "source": [
        "similarly if something is too small for accurate approximation it will create an underflow and assign the expression as 0"
      ],
      "metadata": {
        "id": "RGpWf2r5gVat"
      }
    },
    {
      "cell_type": "code",
      "source": [
        "2**(-3045)"
      ],
      "metadata": {
        "colab": {
          "base_uri": "https://localhost:8080/"
        },
        "id": "Way_WxGfgdFi",
        "outputId": "668e55bc-4e32-47bf-c358-35f90c6c2fa7"
      },
      "execution_count": 8,
      "outputs": [
        {
          "output_type": "execute_result",
          "data": {
            "text/plain": [
              "0.0"
            ]
          },
          "metadata": {},
          "execution_count": 8
        }
      ]
    },
    {
      "cell_type": "markdown",
      "source": [
        "Special cases: In the cases where e=0 it will create a subnormal number which is computed by the following equation: "
      ],
      "metadata": {
        "id": "nYc_qLWOgh3p"
      }
    },
    {
      "cell_type": "markdown",
      "source": [
        "n=((-1)^s)(2^(-1022))(0+f)"
      ],
      "metadata": {
        "id": "xj1TYm4khD6V"
      }
    },
    {
      "cell_type": "markdown",
      "source": [
        "# 9.3: Round-Off Error:\n"
      ],
      "metadata": {
        "id": "UGNHoKBrhWJ8"
      }
    },
    {
      "cell_type": "markdown",
      "source": [
        "- Round-Off Errors: Are the margains made up the differences between the approximation stored as a floating point and the precise number it is approximating. It is the most common error aside from truncation ."
      ],
      "metadata": {
        "id": "tn1elZEsjWw6"
      }
    },
    {
      "cell_type": "markdown",
      "source": [
        "- Representation Errorr: occurs when the number cannot be approximated due to it being an a number with infinite digits. Ex: pi, 1/3, or 0.99999999999...."
      ],
      "metadata": {
        "id": "iA0x9_68jvtI"
      }
    },
    {
      "cell_type": "markdown",
      "source": [
        "- Floating Point Arithmetic Round-Off Error: Since numbers are approximations in python when we look at differences of some numbers and we can find their expression in python will not by the same as their exact result if you don't use precise enough decimal points. For example 0.2-0.05=0.1425 but in python the tenths decimal place is not precise so in python the expression:"
      ],
      "metadata": {
        "id": "yrERbxmbkDvA"
      }
    },
    {
      "cell_type": "code",
      "source": [
        "0.2-0.0575==0.1425"
      ],
      "metadata": {
        "colab": {
          "base_uri": "https://localhost:8080/"
        },
        "id": "uGwDAFBylZNa",
        "outputId": "1b5a4fa3-098a-4d83-c639-e4e3fa47bd15"
      },
      "execution_count": 14,
      "outputs": [
        {
          "output_type": "execute_result",
          "data": {
            "text/plain": [
              "False"
            ]
          },
          "metadata": {},
          "execution_count": 14
        }
      ]
    },
    {
      "cell_type": "code",
      "source": [
        "0.2-0.0575"
      ],
      "metadata": {
        "colab": {
          "base_uri": "https://localhost:8080/"
        },
        "id": "r3bedLtkn2EL",
        "outputId": "3d9a259e-df44-4f1b-c99d-fcac96eed497"
      },
      "execution_count": 15,
      "outputs": [
        {
          "output_type": "execute_result",
          "data": {
            "text/plain": [
              "0.14250000000000002"
            ]
          },
          "metadata": {},
          "execution_count": 15
        }
      ]
    },
    {
      "cell_type": "markdown",
      "source": [
        "As way to account for this rounding error python can use the round function to make this comparison true and compesate for the loss of precision:"
      ],
      "metadata": {
        "id": "sUBCUoHDnqlD"
      }
    },
    {
      "cell_type": "code",
      "source": [
        "round(0.2-0.0575,7)==round(0.1425,7)"
      ],
      "metadata": {
        "colab": {
          "base_uri": "https://localhost:8080/"
        },
        "id": "bJH9JzdyoIKL",
        "outputId": "6b9ce289-0032-4730-f926-17ad8d821689"
      },
      "execution_count": 17,
      "outputs": [
        {
          "output_type": "execute_result",
          "data": {
            "text/plain": [
              "True"
            ]
          },
          "metadata": {},
          "execution_count": 17
        }
      ]
    },
    {
      "cell_type": "markdown",
      "source": [
        "- Accumulated Errors: Occur on repeated operations that widens the errors each time it repeats the operatiopn because it uses the approximated result of the past operation in the new one. For example lets take 5+3/5-3/5=5"
      ],
      "metadata": {
        "id": "BywA07vnoUNs"
      }
    },
    {
      "cell_type": "code",
      "source": [
        "5+(3/5)-(3/5)"
      ],
      "metadata": {
        "colab": {
          "base_uri": "https://localhost:8080/"
        },
        "id": "Mcw14GGNpBWM",
        "outputId": "39db2c92-70d2-4bbc-acbb-8c21c2587d83"
      },
      "execution_count": 18,
      "outputs": [
        {
          "output_type": "execute_result",
          "data": {
            "text/plain": [
              "5.0"
            ]
          },
          "metadata": {},
          "execution_count": 18
        }
      ]
    },
    {
      "cell_type": "markdown",
      "source": [
        "But if we were to create a loop that repeats this operation lets say 5,000 times and 10,000 times to show how much error increases over time we get the following"
      ],
      "metadata": {
        "id": "i2hYG_3TpFQz"
      }
    },
    {
      "cell_type": "code",
      "source": [
        "def add_and_subract(iterations): #defining function\n",
        "  result = 5\n",
        "\n",
        "  for i in range(iterations): #loop for adding 2/9 the number of iterations\n",
        "    result += (3/5)\n",
        "\n",
        "  for i in range(iterations): #loop for subtracting 2/9 the number of iterations\n",
        "    result -= (3/5)\n",
        "  return result"
      ],
      "metadata": {
        "id": "HcNLaQfGpOJb"
      },
      "execution_count": 21,
      "outputs": []
    },
    {
      "cell_type": "code",
      "source": [
        "add_and_subract(5000) #run function 5000 times"
      ],
      "metadata": {
        "colab": {
          "base_uri": "https://localhost:8080/"
        },
        "id": "YL8dys3BpUr4",
        "outputId": "5932e571-7594-48ec-b5b2-6784f75d9586"
      },
      "execution_count": 23,
      "outputs": [
        {
          "output_type": "execute_result",
          "data": {
            "text/plain": [
              "4.999999999999984"
            ]
          },
          "metadata": {},
          "execution_count": 23
        }
      ]
    },
    {
      "cell_type": "code",
      "source": [
        "add_and_subract(10000)"
      ],
      "metadata": {
        "colab": {
          "base_uri": "https://localhost:8080/"
        },
        "id": "dMc-pxS0pgHR",
        "outputId": "3714286e-6e2d-4629-b028-e6c3a50a8b02"
      },
      "execution_count": 24,
      "outputs": [
        {
          "output_type": "execute_result",
          "data": {
            "text/plain": [
              "5.000000000000439"
            ]
          },
          "metadata": {},
          "execution_count": 24
        }
      ]
    }
  ]
}